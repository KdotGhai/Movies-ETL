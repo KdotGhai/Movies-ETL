{
 "cells": [
  {
   "cell_type": "markdown",
   "id": "ed4c6787",
   "metadata": {},
   "source": [
    "## 8.2.2 extract kaggle data"
   ]
  },
  {
   "cell_type": "code",
   "execution_count": null,
   "id": "0dec8278",
   "metadata": {},
   "outputs": [],
   "source": [
    "import json\n",
    "import pandas as pd\n",
    "import numpy as np"
   ]
  },
  {
   "cell_type": "code",
   "execution_count": null,
   "id": "b2e39776",
   "metadata": {},
   "outputs": [],
   "source": [
    "kaggle_metadata = pd.read_csv('movies_metadata.csv', low_memory = False)\n",
    "ratings = pd.read_csv('ratings.csv')"
   ]
  },
  {
   "cell_type": "code",
   "execution_count": null,
   "id": "8afd5899",
   "metadata": {},
   "outputs": [],
   "source": [
    "# Read movies_metadata dataframe\n",
    "kaggle_metadata.head()"
   ]
  },
  {
   "cell_type": "code",
   "execution_count": null,
   "id": "92c75864",
   "metadata": {},
   "outputs": [],
   "source": [
    "# Read ratings dataframe\n",
    "ratings.head()"
   ]
  },
  {
   "cell_type": "code",
   "execution_count": null,
   "id": "128c7aff",
   "metadata": {},
   "outputs": [],
   "source": [
    "# we can also use df.sample() method to get dataframe outputs in random order/pick\n",
    "kaggle_metadata.sample(n = 5)"
   ]
  },
  {
   "cell_type": "code",
   "execution_count": null,
   "id": "774eb66e",
   "metadata": {},
   "outputs": [],
   "source": [
    "kaggle_metadata.dtypes"
   ]
  },
  {
   "cell_type": "code",
   "execution_count": null,
   "id": "43ad4c5f",
   "metadata": {},
   "outputs": [],
   "source": [
    "kaggle_metadata['adult'].value_counts()"
   ]
  },
  {
   "cell_type": "code",
   "execution_count": null,
   "id": "316f94e5",
   "metadata": {},
   "outputs": [],
   "source": [
    "# Remove Bad Data\n",
    "kaggle_metadata[~kaggle_metadata['adult'].isin(['True','False'])]"
   ]
  },
  {
   "cell_type": "code",
   "execution_count": null,
   "id": "a35ff3af",
   "metadata": {},
   "outputs": [],
   "source": [
    "# Dont want adult movies and then dropp adult column since irrelevant afterwards\n",
    "kaggle_metadata = kaggle_metadata[kaggle_metadata['adult'] == 'False'].drop('adult',axis='columns')"
   ]
  },
  {
   "cell_type": "code",
   "execution_count": null,
   "id": "f88b4528",
   "metadata": {},
   "outputs": [],
   "source": [
    "# Check video data column\n",
    "kaggle_metadata['video'].value_counts()"
   ]
  },
  {
   "cell_type": "code",
   "execution_count": null,
   "id": "dfdd354a",
   "metadata": {},
   "outputs": [],
   "source": [
    "# since it was all boolean and clean already we can assign it to video column as such:\n",
    "kaggle_metadata['video']  = (kaggle_metadata['video'] == 'True')\n"
   ]
  },
  {
   "cell_type": "code",
   "execution_count": null,
   "id": "f5da3be9",
   "metadata": {},
   "outputs": [],
   "source": [
    "## For the numeric columns, we can just use the to_numeric() method from Pandas. \n",
    "## We'll make sure the errors= argument is set to 'raise', so we'll know if there's any data that can't be converted to numbers\n",
    "\n",
    "kaggle_metadata['budget'] = kaggle_metadata['budget'].astype(int)\n",
    "kaggle_metadata['id'] = pd.to_numeric(kaggle_metadata['id'], errors='raise')\n",
    "kaggle_metadata['popularity'] = pd.to_numeric(kaggle_metadata['popularity'], errors='raise')"
   ]
  },
  {
   "cell_type": "code",
   "execution_count": null,
   "id": "1c8579a3",
   "metadata": {},
   "outputs": [],
   "source": [
    "# convert using pd.to_datetime()\n",
    "kaggle_metadata['release_date'] = pd.to_datetime(kaggle_metadata['release_date'])"
   ]
  },
  {
   "cell_type": "code",
   "execution_count": null,
   "id": "cafe7aec",
   "metadata": {},
   "outputs": [],
   "source": [
    "## Inspect Rating Data\n",
    "ratings.info(show_counts = True)"
   ]
  },
  {
   "cell_type": "code",
   "execution_count": null,
   "id": "a8eb34b9",
   "metadata": {},
   "outputs": [],
   "source": [
    "# We notice timestamp is not in a desirable format so we use pd.to_datetime\n",
    "ratings['timestamp'] = pd.to_datetime(ratings['timestamp'], unit='s')\n",
    "ratings['timestamp']"
   ]
  },
  {
   "cell_type": "code",
   "execution_count": null,
   "id": "384c409a",
   "metadata": {},
   "outputs": [],
   "source": [
    "pd.options.display.float_format = '{:20,.2f}'.format\n",
    "ratings['rating'].plot(kind='hist')\n",
    "ratings['rating'].describe()"
   ]
  },
  {
   "cell_type": "code",
   "execution_count": null,
   "id": "c855d0bd",
   "metadata": {},
   "outputs": [],
   "source": []
  },
  {
   "cell_type": "code",
   "execution_count": null,
   "id": "0cd5730b",
   "metadata": {},
   "outputs": [],
   "source": []
  }
 ],
 "metadata": {
  "kernelspec": {
   "display_name": "PythonData",
   "language": "python",
   "name": "pythondata"
  },
  "language_info": {
   "codemirror_mode": {
    "name": "ipython",
    "version": 3
   },
   "file_extension": ".py",
   "mimetype": "text/x-python",
   "name": "python",
   "nbconvert_exporter": "python",
   "pygments_lexer": "ipython3",
   "version": "3.9.7"
  }
 },
 "nbformat": 4,
 "nbformat_minor": 5
}
